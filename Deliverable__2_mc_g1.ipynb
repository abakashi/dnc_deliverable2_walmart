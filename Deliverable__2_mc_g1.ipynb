{
  "nbformat": 4,
  "nbformat_minor": 0,
  "metadata": {
    "colab": {
      "name": "Deliverable _2_mc_g1",
      "provenance": [],
      "collapsed_sections": [],
      "mount_file_id": "1KVObDX7blYdIdk6V2DCm3CrLbhMr2ZnI",
      "authorship_tag": "ABX9TyNlFjHvsUFeY9drdCElQWml",
      "include_colab_link": true
    },
    "kernelspec": {
      "name": "python3",
      "display_name": "Python 3"
    },
    "language_info": {
      "name": "python"
    }
  },
  "cells": [
    {
      "cell_type": "markdown",
      "metadata": {
        "id": "view-in-github",
        "colab_type": "text"
      },
      "source": [
        "<a href=\"https://colab.research.google.com/github/abakashi/dnc_deliverable2_walmart/blob/main/Deliverable__2_mc_g1.ipynb\" target=\"_parent\"><img src=\"https://colab.research.google.com/assets/colab-badge.svg\" alt=\"Open In Colab\"/></a>"
      ]
    },
    {
      "cell_type": "markdown",
      "source": [
        "# Deliverable 2 - Grupo 01 - DEX04\n",
        "## Importe das bibliotecas e criação do DataFrame."
      ],
      "metadata": {
        "id": "yrinN9V5DaWl"
      }
    },
    {
      "cell_type": "code",
      "execution_count": 1,
      "metadata": {
        "colab": {
          "base_uri": "https://localhost:8080/"
        },
        "id": "TJ63d9M4C_Ao",
        "outputId": "58e4d056-6d84-46f5-8fe7-1b4c3a5aa601"
      },
      "outputs": [
        {
          "output_type": "execute_result",
          "data": {
            "text/plain": [
              "Index(['Store', 'Date', 'Weekly_Sales', 'Holiday_Flag', 'Temperature',\n",
              "       'Fuel_Price', 'CPI', 'Unemployment', 'Week_Number'],\n",
              "      dtype='object')"
            ]
          },
          "metadata": {},
          "execution_count": 1
        }
      ],
      "source": [
        "import pandas as pd\n",
        "import matplotlib.pyplot as plt\n",
        "import seaborn as sns\n",
        "import datetime as dt\n",
        "# Carregando .csv para o DataFrame\n",
        "dataset = pd.read_csv('/content/drive/MyDrive/Walmart.csv')\n",
        "\n",
        "# Convertendo os dados de data de String para DateTime\n",
        "dataset.Date = pd.to_datetime(dataset.Date)\n",
        "\n",
        "# Criando uma coluna com o número da semana para potencial consulta de \n",
        "# resultados\n",
        "dataset['Week_Number'] = dataset.Date.dt.isocalendar().week\n",
        "\n",
        "dataset.columns"
      ]
    },
    {
      "cell_type": "markdown",
      "source": [
        "### Sobre os dados\n",
        "Este é o conjunto de dados de 05-02-2010 até 01-11-2012 do WalmartStoresales. \n",
        "Neste aqrquivo você encontrará as seguintes variáveis:\n",
        "\n",
        "**Store** - the store number\n",
        "\n",
        "**Date** - the week of sales\n",
        "\n",
        "**Weekly_Sales** - sales for the given store\n",
        "\n",
        "**Holiday_Flag** - whether the week is a special holiday week 1 – Holiday week 0 – Non-holiday week\n",
        "\n",
        "**Temperature** - Temperature on the day of sale\n",
        "\n",
        "**Fuel_Price** - Cost of fuel in the region\n",
        "\n",
        "**CPI** – Prevailing consumer price index\n",
        "\n",
        "**Unemployment** - Prevailing unemployment rate\n",
        "\n",
        "**Holiday Events**\\\n",
        "Super Bowl: 12-Feb-10, 11-Feb-11, 10-Feb-12, 8-Feb-13\\\n",
        "Labour Day: 10-Sep-10, 9-Sep-11, 7-Sep-12, 6-Sep-13\\\n",
        "Thanksgiving: 26-Nov-10, 25-Nov-11, 23-Nov-12, 29-Nov-13\\\n",
        "Christmas: 31-Dec-10, 30-Dec-11, 28-Dec-12, 27-Dec-13"
      ],
      "metadata": {
        "id": "0KuJVrYdT_Db"
      }
    },
    {
      "cell_type": "markdown",
      "source": [
        "## Questionamento:\n",
        "**Com base nos dados fornecidos, em qual loja deve-se investir?**\n",
        "\n",
        "Iniciando os Estudos:"
      ],
      "metadata": {
        "id": "AmYzCjGZobCt"
      }
    },
    {
      "cell_type": "code",
      "source": [
        "# Criando listas com strings das datas de feriado para comparação futura\n",
        "christmas_dates = ['2010-12-31', '2011-12-30', '2012-12-28', '2013-12-27'] \n",
        "thanksgiving_dates = ['2010-11-26', '2011-11-25', '2012-11-23', '2013-11-29']\n",
        "labourday_dates = ['2010-09-10', '2011-09-09', '2012-09-07', '2013-09-06']\n",
        "\n",
        "#Nas datas do Superbowl, as lojas não funcionam!!!!!\n",
        "superbowl_dates = ['2010-02-12', '2011-02-11', '2012-02-10', '2013-02-08']\n"
      ],
      "metadata": {
        "id": "9q5GAVQYDaEH"
      },
      "execution_count": 2,
      "outputs": []
    },
    {
      "cell_type": "code",
      "source": [
        "#Criando funções de utilidades.\n",
        "# Criando uma função para filtrar os dataframes por lista de datas de feriados\n",
        "def df_datefilter(dataframe, date_list):\n",
        "  return dataframe[dataframe.Date.isin(date_list)]\n",
        "\n",
        "# Criando uma função para pegar as semanas das datas.\n",
        "def week_getter(datelist):\n",
        "  weeks = set()\n",
        "  for date in datelist:\n",
        "    if date[5] == '0':\n",
        "      yr = int(date[:4])\n",
        "      mth = int(date[6:7])\n",
        "      day = int(date[8:10])\n",
        "      weeks.add(dt.date(yr, mth, day).isocalendar()[1])\n",
        "    else:\n",
        "      yr = int(date[:4])\n",
        "      mth = int(date[5:7])\n",
        "      day = int(date[8:10])\n",
        "      weeks.add(dt.date(yr, mth, day).isocalendar()[1])\n",
        "  return weeks\n",
        "\n",
        "# Função para filtrar o dataframe por lista com números de semanas dos feriados\n",
        "def df_weekfilter(dataframe, weeklist):\n",
        "  return dataframe[dataframe.Week_Number.isin(weeklist)]"
      ],
      "metadata": {
        "id": "nWHK9kKh14rr"
      },
      "execution_count": 3,
      "outputs": []
    },
    {
      "cell_type": "code",
      "source": [
        "#Checando se as variáveis têm valores nulos\n",
        "variaveis = list(dataset.columns)\n",
        "v_nulo = list()\n",
        "for variavel in variaveis:\n",
        "  if dataset[variavel].hasnans:\n",
        "    v_nulo.append(variavel)\n",
        "print(v_nulo) #sem valores nulos\n"
      ],
      "metadata": {
        "colab": {
          "base_uri": "https://localhost:8080/"
        },
        "id": "1AuK0FvomDj0",
        "outputId": "cef9cb78-5d1b-44e3-b067-8678259c242a"
      },
      "execution_count": 4,
      "outputs": [
        {
          "output_type": "stream",
          "name": "stdout",
          "text": [
            "[]\n"
          ]
        }
      ]
    },
    {
      "cell_type": "code",
      "source": [
        "# Visualizando presença de ouliers em variáveis quantitativas.\n",
        "\n",
        "fig, ax = plt.subplots(2,2, figsize=(15,13))\n",
        "\n",
        "ax[0,0].boxplot(dataset.Weekly_Sales)\n",
        "ax[0,0].set_title(dataset['Weekly_Sales'].name)\n",
        "\n",
        "ax[0,1].boxplot(dataset.Temperature)\n",
        "ax[0,1].set_title(dataset['Temperature'].name)\n",
        "\n",
        "ax[1,0].boxplot(dataset.CPI)\n",
        "ax[1,0].set_title(dataset['CPI'].name)\n",
        "\n",
        "ax[1,1].boxplot(dataset.Fuel_Price)\n",
        "ax[1,1].set_title(dataset['Fuel_Price'].name)\n",
        "plt.show()\n",
        "\n",
        "#outliers detectados no Weekly_Sales (esperado) e na Temperatura.\n"
      ],
      "metadata": {
        "colab": {
          "base_uri": "https://localhost:8080/",
          "height": 771
        },
        "id": "pcmc_swu5dhB",
        "outputId": "a6eec1ca-997d-44ab-9851-2c1b10d02fd3"
      },
      "execution_count": 5,
      "outputs": [
        {
          "output_type": "display_data",
          "data": {
            "text/plain": [
              "<Figure size 1080x936 with 4 Axes>"
            ],
            "image/png": "[encoded data removed]"
          },
          "metadata": {
            "needs_background": "light"
          }
        }
      ]
    },
    {
      "cell_type": "code",
      "source": [
        "# Filtrando o dataset por vendas nos feriados de natal\n",
        "ds_christmas = df_weekfilter(dataset, week_getter(christmas_dates))\n",
        "ds_thanksgiving = df_weekfilter(dataset, week_getter(thanksgiving_dates))\n",
        "ds_labourday = df_weekfilter(dataset, week_getter(labourday_dates))\n",
        "ds_superbowl = df_weekfilter(dataset, week_getter(superbowl_dates)) \n",
        "#ds_christmas.groupby('Store').sum().sort_values('Weekly_Sales', ascending=False)"
      ],
      "metadata": {
        "id": "WkGUYpdbaiD4"
      },
      "execution_count": 6,
      "outputs": []
    }
  ]
}